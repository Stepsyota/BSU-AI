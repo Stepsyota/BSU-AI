import pandas as pd

df = pd.read_csv("../titanic_train.csv")

df.head(len(df))


nan_matrix = df.isnull()
print(nan_matrix.sum())


age_median = df["Age"].median()
cabin_mode = df["Cabin"].mode()[0]
embarked_mode = df["Embarked"].mode()[0]
#The behavior will change in pandas 3.0. This inplace method will never work because the intermediate object on which we are setting values always behaves as a copy.
#For example, when doing 'df[col].method(value, inplace=True)', try using 'df.method({col: value}, inplace=True)' or df[col] = df[col].method(value) instead, to perform the operation inplace on the original object

df.fillna({"Age" : age_median, "Cabin" : cabin_mode, "Embarked" : embarked_mode}, inplace = True)
nan_matrix = df.isnull()
print(nan_matrix.sum())









