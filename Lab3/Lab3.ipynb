{
 "cells": [
  {
   "cell_type": "code",
   "execution_count": 1,
   "id": "e79ec08e-667e-447f-bf1a-c7b3c8d39e75",
   "metadata": {},
   "outputs": [
    {
     "data": {
      "text/html": [
       "<div>\n",
       "<style scoped>\n",
       "    .dataframe tbody tr th:only-of-type {\n",
       "        vertical-align: middle;\n",
       "    }\n",
       "\n",
       "    .dataframe tbody tr th {\n",
       "        vertical-align: top;\n",
       "    }\n",
       "\n",
       "    .dataframe thead th {\n",
       "        text-align: right;\n",
       "    }\n",
       "</style>\n",
       "<table border=\"1\" class=\"dataframe\">\n",
       "  <thead>\n",
       "    <tr style=\"text-align: right;\">\n",
       "      <th></th>\n",
       "      <th>PassengerId</th>\n",
       "      <th>Survived</th>\n",
       "      <th>Pclass</th>\n",
       "      <th>Age</th>\n",
       "      <th>SibSp</th>\n",
       "      <th>Parch</th>\n",
       "      <th>Fare</th>\n",
       "      <th>Sex_male</th>\n",
       "      <th>Cabin_A14</th>\n",
       "      <th>Cabin_A16</th>\n",
       "      <th>...</th>\n",
       "      <th>Cabin_F G63</th>\n",
       "      <th>Cabin_F G73</th>\n",
       "      <th>Cabin_F2</th>\n",
       "      <th>Cabin_F33</th>\n",
       "      <th>Cabin_F38</th>\n",
       "      <th>Cabin_F4</th>\n",
       "      <th>Cabin_G6</th>\n",
       "      <th>Cabin_T</th>\n",
       "      <th>Embarked_Q</th>\n",
       "      <th>Embarked_S</th>\n",
       "    </tr>\n",
       "  </thead>\n",
       "  <tbody>\n",
       "    <tr>\n",
       "      <th>0</th>\n",
       "      <td>1</td>\n",
       "      <td>0</td>\n",
       "      <td>1.0</td>\n",
       "      <td>0.271174</td>\n",
       "      <td>0.125</td>\n",
       "      <td>0.0</td>\n",
       "      <td>0.014151</td>\n",
       "      <td>True</td>\n",
       "      <td>False</td>\n",
       "      <td>False</td>\n",
       "      <td>...</td>\n",
       "      <td>False</td>\n",
       "      <td>False</td>\n",
       "      <td>False</td>\n",
       "      <td>False</td>\n",
       "      <td>False</td>\n",
       "      <td>False</td>\n",
       "      <td>False</td>\n",
       "      <td>False</td>\n",
       "      <td>False</td>\n",
       "      <td>True</td>\n",
       "    </tr>\n",
       "    <tr>\n",
       "      <th>1</th>\n",
       "      <td>2</td>\n",
       "      <td>1</td>\n",
       "      <td>0.0</td>\n",
       "      <td>0.472229</td>\n",
       "      <td>0.125</td>\n",
       "      <td>0.0</td>\n",
       "      <td>0.139136</td>\n",
       "      <td>False</td>\n",
       "      <td>False</td>\n",
       "      <td>False</td>\n",
       "      <td>...</td>\n",
       "      <td>False</td>\n",
       "      <td>False</td>\n",
       "      <td>False</td>\n",
       "      <td>False</td>\n",
       "      <td>False</td>\n",
       "      <td>False</td>\n",
       "      <td>False</td>\n",
       "      <td>False</td>\n",
       "      <td>False</td>\n",
       "      <td>False</td>\n",
       "    </tr>\n",
       "    <tr>\n",
       "      <th>2</th>\n",
       "      <td>3</td>\n",
       "      <td>1</td>\n",
       "      <td>1.0</td>\n",
       "      <td>0.321438</td>\n",
       "      <td>0.000</td>\n",
       "      <td>0.0</td>\n",
       "      <td>0.015469</td>\n",
       "      <td>False</td>\n",
       "      <td>False</td>\n",
       "      <td>False</td>\n",
       "      <td>...</td>\n",
       "      <td>False</td>\n",
       "      <td>False</td>\n",
       "      <td>False</td>\n",
       "      <td>False</td>\n",
       "      <td>False</td>\n",
       "      <td>False</td>\n",
       "      <td>False</td>\n",
       "      <td>False</td>\n",
       "      <td>False</td>\n",
       "      <td>True</td>\n",
       "    </tr>\n",
       "    <tr>\n",
       "      <th>3</th>\n",
       "      <td>4</td>\n",
       "      <td>1</td>\n",
       "      <td>0.0</td>\n",
       "      <td>0.434531</td>\n",
       "      <td>0.125</td>\n",
       "      <td>0.0</td>\n",
       "      <td>0.103644</td>\n",
       "      <td>False</td>\n",
       "      <td>False</td>\n",
       "      <td>False</td>\n",
       "      <td>...</td>\n",
       "      <td>False</td>\n",
       "      <td>False</td>\n",
       "      <td>False</td>\n",
       "      <td>False</td>\n",
       "      <td>False</td>\n",
       "      <td>False</td>\n",
       "      <td>False</td>\n",
       "      <td>False</td>\n",
       "      <td>False</td>\n",
       "      <td>True</td>\n",
       "    </tr>\n",
       "    <tr>\n",
       "      <th>4</th>\n",
       "      <td>5</td>\n",
       "      <td>0</td>\n",
       "      <td>1.0</td>\n",
       "      <td>0.434531</td>\n",
       "      <td>0.000</td>\n",
       "      <td>0.0</td>\n",
       "      <td>0.015713</td>\n",
       "      <td>True</td>\n",
       "      <td>False</td>\n",
       "      <td>False</td>\n",
       "      <td>...</td>\n",
       "      <td>False</td>\n",
       "      <td>False</td>\n",
       "      <td>False</td>\n",
       "      <td>False</td>\n",
       "      <td>False</td>\n",
       "      <td>False</td>\n",
       "      <td>False</td>\n",
       "      <td>False</td>\n",
       "      <td>False</td>\n",
       "      <td>True</td>\n",
       "    </tr>\n",
       "  </tbody>\n",
       "</table>\n",
       "<p>5 rows × 156 columns</p>\n",
       "</div>"
      ],
      "text/plain": [
       "   PassengerId  Survived  Pclass       Age  SibSp  Parch      Fare  Sex_male  \\\n",
       "0            1         0     1.0  0.271174  0.125    0.0  0.014151      True   \n",
       "1            2         1     0.0  0.472229  0.125    0.0  0.139136     False   \n",
       "2            3         1     1.0  0.321438  0.000    0.0  0.015469     False   \n",
       "3            4         1     0.0  0.434531  0.125    0.0  0.103644     False   \n",
       "4            5         0     1.0  0.434531  0.000    0.0  0.015713      True   \n",
       "\n",
       "   Cabin_A14  Cabin_A16  ...  Cabin_F G63  Cabin_F G73  Cabin_F2  Cabin_F33  \\\n",
       "0      False      False  ...        False        False     False      False   \n",
       "1      False      False  ...        False        False     False      False   \n",
       "2      False      False  ...        False        False     False      False   \n",
       "3      False      False  ...        False        False     False      False   \n",
       "4      False      False  ...        False        False     False      False   \n",
       "\n",
       "   Cabin_F38  Cabin_F4  Cabin_G6  Cabin_T  Embarked_Q  Embarked_S  \n",
       "0      False     False     False    False       False        True  \n",
       "1      False     False     False    False       False       False  \n",
       "2      False     False     False    False       False        True  \n",
       "3      False     False     False    False       False        True  \n",
       "4      False     False     False    False       False        True  \n",
       "\n",
       "[5 rows x 156 columns]"
      ]
     },
     "execution_count": 1,
     "metadata": {},
     "output_type": "execute_result"
    }
   ],
   "source": [
    "import pandas as pd\n",
    "\n",
    "df = pd.read_csv(\"../Lab1/after_lab1.csv\")\n",
    "df = df.drop([\"Name\", \"Ticket\"], axis = 1)\n",
    "df.head(5)"
   ]
  },
  {
   "cell_type": "code",
   "execution_count": 2,
   "id": "b07d81fb-3212-408f-b8dc-e3449e48d8aa",
   "metadata": {},
   "outputs": [
    {
     "name": "stdout",
     "output_type": "stream",
     "text": [
      "Len_X_reg = 891\n",
      "Len_X_train_reg = 534, Len_X_test_reg = 357\n",
      "Summa = 891\n"
     ]
    }
   ],
   "source": [
    "#Решить задачу регрессии для одного из непрерывных признаков в датасете. Оценить работу регрессионной модели\n",
    "from sklearn.model_selection import train_test_split\n",
    "\n",
    "X_reg = df.drop([\"Age\"], axis = 1)\n",
    "y_reg = df[\"Age\"]\n",
    "\n",
    "X_train_reg, X_test_reg, y_train_reg, y_test_reg = train_test_split(X_reg, y_reg, test_size = 0.4, random_state = 14)\n",
    "print(f\"Len_X_reg = {len(X_reg)}\\nLen_X_train_reg = {len(X_train_reg)}, Len_X_test_reg = {len(X_test_reg)}\\nSumma = {len(X_train_reg) + len(X_test_reg)}\")"
   ]
  },
  {
   "cell_type": "code",
   "execution_count": 3,
   "id": "70e75955-e83b-42f3-8ee3-488ecc87117f",
   "metadata": {},
   "outputs": [
    {
     "data": {
      "text/html": [
       "<div>\n",
       "<style scoped>\n",
       "    .dataframe tbody tr th:only-of-type {\n",
       "        vertical-align: middle;\n",
       "    }\n",
       "\n",
       "    .dataframe tbody tr th {\n",
       "        vertical-align: top;\n",
       "    }\n",
       "\n",
       "    .dataframe thead th {\n",
       "        text-align: right;\n",
       "    }\n",
       "</style>\n",
       "<table border=\"1\" class=\"dataframe\">\n",
       "  <thead>\n",
       "    <tr style=\"text-align: right;\">\n",
       "      <th></th>\n",
       "      <th>PassengerId</th>\n",
       "      <th>Survived</th>\n",
       "      <th>Pclass</th>\n",
       "      <th>SibSp</th>\n",
       "      <th>Parch</th>\n",
       "      <th>Fare</th>\n",
       "      <th>Sex_male</th>\n",
       "      <th>Cabin_A14</th>\n",
       "      <th>Cabin_A16</th>\n",
       "      <th>Cabin_A19</th>\n",
       "      <th>...</th>\n",
       "      <th>Cabin_F G63</th>\n",
       "      <th>Cabin_F G73</th>\n",
       "      <th>Cabin_F2</th>\n",
       "      <th>Cabin_F33</th>\n",
       "      <th>Cabin_F38</th>\n",
       "      <th>Cabin_F4</th>\n",
       "      <th>Cabin_G6</th>\n",
       "      <th>Cabin_T</th>\n",
       "      <th>Embarked_Q</th>\n",
       "      <th>Embarked_S</th>\n",
       "    </tr>\n",
       "  </thead>\n",
       "  <tbody>\n",
       "    <tr>\n",
       "      <th>46</th>\n",
       "      <td>47</td>\n",
       "      <td>0</td>\n",
       "      <td>1.0</td>\n",
       "      <td>0.125</td>\n",
       "      <td>0.000000</td>\n",
       "      <td>0.030254</td>\n",
       "      <td>True</td>\n",
       "      <td>False</td>\n",
       "      <td>False</td>\n",
       "      <td>False</td>\n",
       "      <td>...</td>\n",
       "      <td>False</td>\n",
       "      <td>False</td>\n",
       "      <td>False</td>\n",
       "      <td>False</td>\n",
       "      <td>False</td>\n",
       "      <td>False</td>\n",
       "      <td>False</td>\n",
       "      <td>False</td>\n",
       "      <td>True</td>\n",
       "      <td>False</td>\n",
       "    </tr>\n",
       "    <tr>\n",
       "      <th>814</th>\n",
       "      <td>815</td>\n",
       "      <td>0</td>\n",
       "      <td>1.0</td>\n",
       "      <td>0.000</td>\n",
       "      <td>0.000000</td>\n",
       "      <td>0.015713</td>\n",
       "      <td>True</td>\n",
       "      <td>False</td>\n",
       "      <td>False</td>\n",
       "      <td>False</td>\n",
       "      <td>...</td>\n",
       "      <td>False</td>\n",
       "      <td>False</td>\n",
       "      <td>False</td>\n",
       "      <td>False</td>\n",
       "      <td>False</td>\n",
       "      <td>False</td>\n",
       "      <td>False</td>\n",
       "      <td>False</td>\n",
       "      <td>False</td>\n",
       "      <td>True</td>\n",
       "    </tr>\n",
       "    <tr>\n",
       "      <th>513</th>\n",
       "      <td>514</td>\n",
       "      <td>1</td>\n",
       "      <td>0.0</td>\n",
       "      <td>0.125</td>\n",
       "      <td>0.000000</td>\n",
       "      <td>0.115941</td>\n",
       "      <td>False</td>\n",
       "      <td>False</td>\n",
       "      <td>False</td>\n",
       "      <td>False</td>\n",
       "      <td>...</td>\n",
       "      <td>False</td>\n",
       "      <td>False</td>\n",
       "      <td>False</td>\n",
       "      <td>False</td>\n",
       "      <td>False</td>\n",
       "      <td>False</td>\n",
       "      <td>False</td>\n",
       "      <td>False</td>\n",
       "      <td>False</td>\n",
       "      <td>False</td>\n",
       "    </tr>\n",
       "    <tr>\n",
       "      <th>772</th>\n",
       "      <td>773</td>\n",
       "      <td>0</td>\n",
       "      <td>0.5</td>\n",
       "      <td>0.000</td>\n",
       "      <td>0.000000</td>\n",
       "      <td>0.020495</td>\n",
       "      <td>False</td>\n",
       "      <td>False</td>\n",
       "      <td>False</td>\n",
       "      <td>False</td>\n",
       "      <td>...</td>\n",
       "      <td>False</td>\n",
       "      <td>False</td>\n",
       "      <td>False</td>\n",
       "      <td>False</td>\n",
       "      <td>False</td>\n",
       "      <td>False</td>\n",
       "      <td>False</td>\n",
       "      <td>False</td>\n",
       "      <td>False</td>\n",
       "      <td>True</td>\n",
       "    </tr>\n",
       "    <tr>\n",
       "      <th>229</th>\n",
       "      <td>230</td>\n",
       "      <td>0</td>\n",
       "      <td>1.0</td>\n",
       "      <td>0.375</td>\n",
       "      <td>0.166667</td>\n",
       "      <td>0.049708</td>\n",
       "      <td>False</td>\n",
       "      <td>False</td>\n",
       "      <td>False</td>\n",
       "      <td>False</td>\n",
       "      <td>...</td>\n",
       "      <td>False</td>\n",
       "      <td>False</td>\n",
       "      <td>False</td>\n",
       "      <td>False</td>\n",
       "      <td>False</td>\n",
       "      <td>False</td>\n",
       "      <td>False</td>\n",
       "      <td>False</td>\n",
       "      <td>False</td>\n",
       "      <td>True</td>\n",
       "    </tr>\n",
       "  </tbody>\n",
       "</table>\n",
       "<p>5 rows × 155 columns</p>\n",
       "</div>"
      ],
      "text/plain": [
       "     PassengerId  Survived  Pclass  SibSp     Parch      Fare  Sex_male  \\\n",
       "46            47         0     1.0  0.125  0.000000  0.030254      True   \n",
       "814          815         0     1.0  0.000  0.000000  0.015713      True   \n",
       "513          514         1     0.0  0.125  0.000000  0.115941     False   \n",
       "772          773         0     0.5  0.000  0.000000  0.020495     False   \n",
       "229          230         0     1.0  0.375  0.166667  0.049708     False   \n",
       "\n",
       "     Cabin_A14  Cabin_A16  Cabin_A19  ...  Cabin_F G63  Cabin_F G73  Cabin_F2  \\\n",
       "46       False      False      False  ...        False        False     False   \n",
       "814      False      False      False  ...        False        False     False   \n",
       "513      False      False      False  ...        False        False     False   \n",
       "772      False      False      False  ...        False        False     False   \n",
       "229      False      False      False  ...        False        False     False   \n",
       "\n",
       "     Cabin_F33  Cabin_F38  Cabin_F4  Cabin_G6  Cabin_T  Embarked_Q  Embarked_S  \n",
       "46       False      False     False     False    False        True       False  \n",
       "814      False      False     False     False    False       False        True  \n",
       "513      False      False     False     False    False       False       False  \n",
       "772      False      False     False     False    False       False        True  \n",
       "229      False      False     False     False    False       False        True  \n",
       "\n",
       "[5 rows x 155 columns]"
      ]
     },
     "execution_count": 3,
     "metadata": {},
     "output_type": "execute_result"
    }
   ],
   "source": [
    "X_train_reg.head(5)"
   ]
  },
  {
   "cell_type": "code",
   "execution_count": 4,
   "id": "5f00c824-dd64-4018-b5e4-15dabc09afeb",
   "metadata": {},
   "outputs": [
    {
     "data": {
      "text/plain": [
       "46     0.346569\n",
       "814    0.377984\n",
       "513    0.673285\n",
       "772    0.710983\n",
       "229    0.346569\n",
       "Name: Age, dtype: float64"
      ]
     },
     "execution_count": 4,
     "metadata": {},
     "output_type": "execute_result"
    }
   ],
   "source": [
    "y_train_reg.head(5)"
   ]
  },
  {
   "cell_type": "code",
   "execution_count": 37,
   "id": "6aea97ff-684d-48e9-8884-91154e77104f",
   "metadata": {},
   "outputs": [
    {
     "data": {
      "image/png": "[encoded data removed]",
      "text/plain": [
       "<Figure size 640x480 with 1 Axes>"
      ]
     },
     "metadata": {},
     "output_type": "display_data"
    }
   ],
   "source": [
    "from sklearn.tree import DecisionTreeRegressor\n",
    "from sklearn import tree\n",
    "from matplotlib import pyplot as plt\n",
    "\n",
    "tree_model = DecisionTreeRegressor(max_depth = 7, max_leaf_nodes = 12)\n",
    "tree_model.fit(X_train_reg, y_train_reg)\n",
    "\n",
    "tree.plot_tree(tree_model)\n",
    "plt.show()"
   ]
  },
  {
   "cell_type": "code",
   "execution_count": 38,
   "id": "498d090c-eb0f-4294-85f6-47ce8466be6b",
   "metadata": {},
   "outputs": [
    {
     "name": "stdout",
     "output_type": "stream",
     "text": [
      "MSE = 0.023999330173812946, RMSE = 0.15491717197848967, MAE = 0.11229385457361005\n"
     ]
    }
   ],
   "source": [
    "y_pred_test_reg = tree_model.predict(X_test_reg)\n",
    "\n",
    "from sklearn.metrics import mean_squared_error, root_mean_squared_error, mean_absolute_error\n",
    "MSE = mean_squared_error(y_test_reg, y_pred_test_reg)\n",
    "RMSE = root_mean_squared_error(y_test_reg, y_pred_test_reg)\n",
    "MAE = mean_absolute_error(y_test_reg, y_pred_test_reg)\n",
    "print(f\"MSE = {MSE}, RMSE = {RMSE}, MAE = {MAE}\")"
   ]
  },
  {
   "cell_type": "code",
   "execution_count": 39,
   "id": "7d798ab5-0ed1-435f-adba-9ee38bb6ebea",
   "metadata": {},
   "outputs": [
    {
     "name": "stdout",
     "output_type": "stream",
     "text": [
      "Len_X_class = 891\n",
      "Len_X_train_class = 534, Len_X_test_class = 357\n",
      "Summa = 891 \n"
     ]
    }
   ],
   "source": [
    "#Решить задачу классификации и оценить работу модели с помощью ROC-кривой\n",
    "\n",
    "from sklearn.model_selection import train_test_split\n",
    "\n",
    "X_class = df.drop([\"Survived\"], axis = 1)\n",
    "y_class = df[\"Survived\"]\n",
    "\n",
    "X_train_class, X_test_class, y_train_class, y_test_class = train_test_split(X_class, y_class, test_size = 0.4, random_state = 14)\n",
    "print(f\"Len_X_class = {len(X_class)}\\nLen_X_train_class = {len(X_train_class)}, Len_X_test_class = {len(X_test_class)}\\nSumma = {len(X_train_class) + len(X_test_class)} \")"
   ]
  },
  {
   "cell_type": "code",
   "execution_count": 40,
   "id": "f1144779-df88-4827-845c-659115c9f259",
   "metadata": {},
   "outputs": [
    {
     "name": "stdout",
     "output_type": "stream",
     "text": [
      "[0 1]\n"
     ]
    }
   ],
   "source": [
    "from sklearn.linear_model import LogisticRegression\n",
    "logistic_model = LogisticRegression(max_iter = 1000)\n",
    "\n",
    "logistic_model.fit(X_train_class, y_train_class)\n",
    "y_proba_class = logistic_model.predict_proba(X_test_class)\n",
    "print(logistic_model.classes_)"
   ]
  },
  {
   "cell_type": "code",
   "execution_count": 41,
   "id": "24deb8f1-9394-4748-a57b-9066a05600a3",
   "metadata": {},
   "outputs": [
    {
     "data": {
      "text/plain": [
       "Text(0.5, 1.0, 'ROC curve')"
      ]
     },
     "execution_count": 41,
     "metadata": {},
     "output_type": "execute_result"
    },
    {
     "data": {
      "image/png": "[encoded data removed]",
      "text/plain": [
       "<Figure size 640x480 with 1 Axes>"
      ]
     },
     "metadata": {},
     "output_type": "display_data"
    }
   ],
   "source": [
    "from sklearn.metrics import roc_curve\n",
    "from matplotlib import pyplot as plt\n",
    "fpr, tpr, thresholds = roc_curve(y_test_class, y_proba_class[:,1])\n",
    "    \n",
    "plt.plot(fpr, tpr, marker='.')\n",
    "plt.ylim([0,1])\n",
    "plt.xlim([0,1])\n",
    "plt.ylabel('TPR')\n",
    "plt.xlabel('FPR')\n",
    "plt.title('ROC curve')"
   ]
  },
  {
   "cell_type": "code",
   "execution_count": 42,
   "id": "857bb646-8347-4794-a991-00892f124a93",
   "metadata": {},
   "outputs": [
    {
     "name": "stdout",
     "output_type": "stream",
     "text": [
      "0.8466098919095972\n"
     ]
    }
   ],
   "source": [
    "from sklearn.metrics import auc\n",
    "auc_metric = auc(fpr, tpr)\n",
    "\n",
    "print(auc_metric)"
   ]
  },
  {
   "cell_type": "code",
   "execution_count": null,
   "id": "c7ffff54-9558-43e7-845e-926864c5fa1e",
   "metadata": {},
   "outputs": [],
   "source": []
  }
 ],
 "metadata": {
  "kernelspec": {
   "display_name": "Python 3 (ipykernel)",
   "language": "python",
   "name": "python3"
  },
  "language_info": {
   "codemirror_mode": {
    "name": "ipython",
    "version": 3
   },
   "file_extension": ".py",
   "mimetype": "text/x-python",
   "name": "python",
   "nbconvert_exporter": "python",
   "pygments_lexer": "ipython3",
   "version": "3.10.11"
  }
 },
 "nbformat": 4,
 "nbformat_minor": 5
}
