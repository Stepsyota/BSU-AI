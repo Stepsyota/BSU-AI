import pandas as pd

df = pd.read_csv("../titanic_train.csv")

#df.head(len(df))
df.head(50)


df.info()


nan_matrix = df.isnull()
print(nan_matrix.sum())


age_median = df["Age"].median()
cabin_mode = df["Cabin"].mode()[0]
embarked_mode = df["Embarked"].mode()[0]
#The behavior will change in pandas 3.0. This inplace method will never work because the intermediate object on which we are setting values always behaves as a copy.
#For example, when doing 'df[col].method(value, inplace=True)', try using 'df.method({col: value}, inplace=True)' or df[col] = df[col].method(value) instead, to perform the operation inplace on the original object

df.fillna({"Age" : age_median, "Cabin" : cabin_mode, "Embarked" : embarked_mode}, inplace = True)
nan_matrix = df.isnull()
print(nan_matrix.sum())


from sklearn.preprocessing import MinMaxScaler

scaler_Age = MinMaxScaler()
scaler_Pclass = MinMaxScaler()
scaler_SibSp = MinMaxScaler()
scaler_Parch = MinMaxScaler()
scaler_Fare = MinMaxScaler()

df["Age"] = scaler_Age.fit_transform(df[["Age"]])
df["Pclass"] = scaler_Pclass.fit_transform(df[["Pclass"]])
df["SibSp"] = scaler_SibSp.fit_transform(df[["SibSp"]])
df["Parch"] = scaler_Parch.fit_transform(df[["Parch"]])
df["Fare"] = scaler_Fare.fit_transform(df[["Fare"]])


df.head(50)


df = pd.get_dummies(df, columns = ["Sex", "Cabin", "Embarked"], drop_first = True)


df.head(len(df))



